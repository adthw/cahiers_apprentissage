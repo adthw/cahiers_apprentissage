{
 "cells": [
  {
   "cell_type": "markdown",
   "metadata": {},
   "source": [
    "# Python\n",
    "\n",
    "Voir les documents stockés dans les repertoires ressources \n",
    "\n",
    "## Exemples de codes extraits"
   ]
  },
  {
   "cell_type": "markdown",
   "metadata": {},
   "source": [
    "### Environnements"
   ]
  },
  {
   "cell_type": "code",
   "execution_count": null,
   "metadata": {},
   "outputs": [],
   "source": [
    "#Création\n",
    "# You can also use py -3 -m venv .venv\n",
    "python -m venv .venv"
   ]
  },
  {
   "cell_type": "markdown",
   "metadata": {},
   "source": [
    "**create** a `requirements.txt` file with the command `pip freeze > requirements.txt`\n",
    "\n",
    "**restore** those packages using `pip install -r requirements.txt`"
   ]
  },
  {
   "cell_type": "markdown",
   "metadata": {},
   "source": [
    "### Lister les fichiers d'un dossier [www](https://moonbooks.org/Articles/Obtenir-une-liste-des-fichiers-dun-r%C3%A9pertoire-avec-python/)"
   ]
  },
  {
   "cell_type": "code",
   "execution_count": 1,
   "metadata": {
    "scrolled": true
   },
   "outputs": [
    {
     "name": "stdout",
     "output_type": "stream",
     "text": [
      "01-cours_python_variables_print_input.pdf\n",
      "02-cours_python_conditions_indent.pdf\n",
      "03-cours_python_boucle_while.pdf\n",
      "04-cours_python_listes_boucles.pdf\n",
      "05-cours_python_chaines_car.pdf\n",
      "06-cours_python_fonctions.pdf\n",
      "07-cours_python_portee_var.pdf\n",
      "08-cours_python_dict.pdf\n",
      "20200409-_synthese_portee_variables.pdf\n"
     ]
    }
   ],
   "source": [
    ">>> import os\n",
    ">>> for path, subdirs, files in os.walk('./pdfs'):\n",
    "...     for name in files:\n",
    "...         url= os.path.join(name)\n",
    "        #URL= '['+url+']('+url+')'\n",
    "        print(url)"
   ]
  },
  {
   "cell_type": "markdown",
   "metadata": {},
   "source": [
    "#### autre manière"
   ]
  },
  {
   "cell_type": "code",
   "execution_count": 4,
   "metadata": {},
   "outputs": [
    {
     "name": "stdout",
     "output_type": "stream",
     "text": [
      "..\\Archive_cours.ipynb\n",
      "..\\Data-seaborn.ipynb\n",
      "..\\.ipynb_checkpoints\\Archive_cours-checkpoint.ipynb\n",
      "..\\.ipynb_checkpoints\\Data-seaborn-checkpoint.ipynb\n",
      "..\\Analyse_donnees-Machine-learninng\\.ipynb_checkpoints\\Regression_lineaire_multiple_polynomiale-checkpoint.ipynb\n",
      "..\\jupyter\\0_How_to_use_Python_Jupyter_Notebook.pdf\n",
      "..\\python\\Archive_cours_python.ipynb\n",
      "..\\python\\.ipynb_checkpoints\\Archive_cours_python-checkpoint.ipynb\n",
      "..\\python\\pdfs\\01-cours_python_variables_print_input.pdf\n",
      "..\\python\\pdfs\\02-cours_python_conditions_indent.pdf\n",
      "..\\python\\pdfs\\03-cours_python_boucle_while.pdf\n",
      "..\\python\\pdfs\\04-cours_python_listes_boucles.pdf\n",
      "..\\python\\pdfs\\05-cours_python_chaines_car.pdf\n",
      "..\\python\\pdfs\\06-cours_python_fonctions.pdf\n",
      "..\\python\\pdfs\\07-cours_python_portee_var.pdf\n",
      "..\\python\\pdfs\\08-cours_python_dict.pdf\n",
      "..\\python\\pdfs\\20200409-_synthese_portee_variables.pdf\n"
     ]
    }
   ],
   "source": [
    "# Input data files are available in the \"../input/\" directory.\n",
    "# For example, running this (by clicking run or pressing Shift+Enter) will list all files under the input directory\n",
    "\n",
    "for dirname, _, filenames in os.walk('..'):\n",
    "    for filename in filenames:\n",
    "        print(os.path.join(dirname, filename))\n"
   ]
  },
  {
   "cell_type": "code",
   "execution_count": null,
   "metadata": {},
   "outputs": [],
   "source": []
  }
 ],
 "metadata": {
  "kernelspec": {
   "display_name": "Python 3",
   "language": "python",
   "name": "python3"
  },
  "language_info": {
   "codemirror_mode": {
    "name": "ipython",
    "version": 3
   },
   "file_extension": ".py",
   "mimetype": "text/x-python",
   "name": "python",
   "nbconvert_exporter": "python",
   "pygments_lexer": "ipython3",
   "version": "3.8.3"
  }
 },
 "nbformat": 4,
 "nbformat_minor": 4
}
