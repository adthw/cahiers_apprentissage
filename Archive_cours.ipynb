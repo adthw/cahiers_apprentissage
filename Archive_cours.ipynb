{
 "cells": [
  {
   "cell_type": "markdown",
   "metadata": {},
   "source": [
    "# Sommaire Général des Archives Formation iA et  Extraits de Code\n",
    "[Lien vers les veilles](./veilles)"
   ]
  },
  {
   "cell_type": "markdown",
   "metadata": {},
   "source": [
    "## Data - Analyse  et représentation de données\n",
    "\n",
    "- Pandas \n",
    "(Manipulation de dataframes)\n",
    "- Numpy \n",
    "(Calculs Matriciels)\n",
    "- Matplotlib \n",
    "(representation graphiques)\n",
    "- [Seaborn](./Analyse_donnees-Machine-learninng/Data-seaborn.ipynb)\n",
    "(representations graphiques)\n",
    "- scikit-learn \n",
    "(Modèles)\n",
    "\n",
    "\n",
    "\n",
    "## Machine learning\n",
    "\n",
    "- Régressions linéaires\n",
    "- Erreurs quadratiques\n",
    "- Descente de gradient\n",
    "\n",
    "## Code\n",
    "\n",
    "- Environnements VS Code\n",
    "- [Jupyter Notebooks](./Jupyter)\n",
    "- [Github](./Github/github.ipynb)\n",
    "- Gestion de projets\n",
    " - Merise\n",
    " - Scrum\n",
    "- [Python](./python)\n",
    " - [Bases](./python)\n",
    " - Listes, dictionnaires, tuples\n",
    " - [PDFS](./python/pdfs)\n",
    "- BDD\n",
    " - [SQL](./sql)\n",
    "- Front-end\n",
    " - Tkinter\n",
    " - Flask\n",
    " - Markdown"
   ]
  },
  {
   "cell_type": "code",
   "execution_count": null,
   "metadata": {},
   "outputs": [],
   "source": []
  }
 ],
 "metadata": {
  "kernelspec": {
   "display_name": "Python 3",
   "language": "python",
   "name": "python3"
  },
  "language_info": {
   "codemirror_mode": {
    "name": "ipython",
    "version": 3
   },
   "file_extension": ".py",
   "mimetype": "text/x-python",
   "name": "python",
   "nbconvert_exporter": "python",
   "pygments_lexer": "ipython3",
   "version": "3.8.3"
  }
 },
 "nbformat": 4,
 "nbformat_minor": 4
}
