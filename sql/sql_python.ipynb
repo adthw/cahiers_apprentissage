{
 "cells": [
  {
   "cell_type": "markdown",
   "metadata": {},
   "source": [
    "# SQL Connector"
   ]
  },
  {
   "cell_type": "code",
   "execution_count": null,
   "metadata": {},
   "outputs": [],
   "source": [
    "import mysql.connector as mysql\n",
    "\n",
    "bdd = None\n",
    "cursor = None\n",
    "\n",
    "def connexion():\n",
    "    global bdd\n",
    "    global cursor\n",
    "    bdd = mysql.connect(user='root', password='root', host='localhost', port=\"8081\", database='sakila')\n",
    "    cursor = bdd.cursor()\n",
    "\n",
    "def deconnexion():\n",
    "    global bdd\n",
    "    global cursor\n",
    "    cursor.close()\n",
    "    bdd.close()\n",
    "\n",
    "# liste donateurs pour la page index\n",
    "def lire_acteurs():\n",
    "    global cursor\n",
    "    connexion() \n",
    "    query = \"SELECT actor_id, first_name, last_name FROM actor\" \n",
    "    cursor.execute(query) \n",
    "    acteurs = []\n",
    "    for enregistrement in cursor :\n",
    "        acteur = {} \n",
    "        acteur['actor_id'] = enregistrement[0] \n",
    "        acteur['first_name'] = enregistrement[1] \n",
    "        acteur['last_name'] = enregistrement[2] \n",
    "        acteurs.append(acteur)\n",
    "    deconnexion()\n",
    "    return acteurs"
   ]
  }
 ],
 "metadata": {
  "kernelspec": {
   "display_name": "Python 3",
   "language": "python",
   "name": "python3"
  },
  "language_info": {
   "codemirror_mode": {
    "name": "ipython",
    "version": 3
   },
   "file_extension": ".py",
   "mimetype": "text/x-python",
   "name": "python",
   "nbconvert_exporter": "python",
   "pygments_lexer": "ipython3",
   "version": "3.8.3"
  }
 },
 "nbformat": 4,
 "nbformat_minor": 4
}
