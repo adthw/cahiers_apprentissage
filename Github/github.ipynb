{
 "cells": [
  {
   "cell_type": "markdown",
   "metadata": {},
   "source": [
    "### Git <a id=\"Git\"></a>"
   ]
  },
  {
   "cell_type": "markdown",
   "metadata": {},
   "source": [
    "Git est un logiciel sous licence GNU v2 de gestion de version décentralisé. Ce logiciel a été créé par Linus Torvalds, auteur du noyau linux. Ce logiciel est utilisé par différent service web d'hébergement et de gestion de développement de logiciels,tels que : [GitHub](https://github.com), [GitLab](https://gitlab.com/), [Bitbucket](https://bitbucket.org/), etc ..."
   ]
  },
  {
   "cell_type": "markdown",
   "metadata": {},
   "source": [
    "#### GitHub <a id=\"Github\"></a>"
   ]
  },
  {
   "cell_type": "markdown",
   "metadata": {},
   "source": [
    "![GitHub logo](https://logos-marques.com/wp-content/uploads/2021/03/GitHub-Logo.png)"
   ]
  },
  {
   "cell_type": "markdown",
   "metadata": {},
   "source": [
    "Après avoir créer un compte sous GitHub, il est possible de créer des répertoire dans lesquels il sera possible de gérer le versionnage.\n",
    "\n",
    "La création d'un nouveau répertoire se fait à partir du bouton **<span style=\"background-color:lime;\"> New </span>**."
   ]
  },
  {
   "cell_type": "markdown",
   "metadata": {},
   "source": [
    "##### Création d'un répertoire"
   ]
  },
  {
   "cell_type": "markdown",
   "metadata": {},
   "source": [
    "Lors de la création d'un répertoire il est possible de :\n",
    "- Choisir le nom du répertoire\n",
    "- Ajouter une description pour décrire le projet\n",
    "- Choisir son statut (Public ou Privé)\n",
    "- Ajouter un fichier *README* : un fichier qui sert à décrire votre projet et à spécifier la façon de l'utiliser. Son contenu s'affiche automatiquement dans votre répertoire GitHub.\n",
    "- Ajouter un fichier *.gitignore* : fichier qui permet d'ignorer certains fichier ajouter en local. ([voir plus bas](#gitignore))\n",
    "- Choisir une licence"
   ]
  },
  {
   "cell_type": "markdown",
   "metadata": {},
   "source": [
    "![Nouveau repertoire GitHub](./images/github_new.png)"
   ]
  },
  {
   "cell_type": "markdown",
   "metadata": {},
   "source": [
    "##### Création ou importation de fichiers"
   ]
  },
  {
   "cell_type": "markdown",
   "metadata": {},
   "source": [
    "Une fois le répertoire créé, il est possible d'ajouter des fichiers dans le répertoire en cliquant sur **Add file**. On peut alors créer un fichier vierge, ou importer un/des fichier(s) ou même un dossier entier."
   ]
  },
  {
   "cell_type": "markdown",
   "metadata": {},
   "source": [
    "![Création de fichier](./images/github_creer_fichier.png)"
   ]
  },
  {
   "cell_type": "markdown",
   "metadata": {},
   "source": [
    "Il est possble d'utiliser GitHub en local à l'aide de l'application bureau [GitHub Desktop](https://desktop.github.com/). L'application nous permet de gérer les répertoires GitHub en local, il est possible de changer de branche ou créer des branches. Les modifications locale peuvent être visualisé avant de faire un commit et de le push sur le répertoire distant (enligne).\n",
    "\n",
    "![GitHub Desktop](https://desktop.github.com/images/github-desktop-screenshot-windows.png)"
   ]
  },
  {
   "cell_type": "markdown",
   "metadata": {},
   "source": [
    "#### Commande Git"
   ]
  },
  {
   "cell_type": "markdown",
   "metadata": {},
   "source": [
    "Il est également possible de gérer le versionnage de nos projets directement en ligne de commande, ce qui permet de le combiner avec [VisualStudio Code (VS code)](https://code.visualstudio.com/). Pour ce faire il faut télécharger le logiciel [Git](https://git-scm.com/downloads) et de l'installer.\n",
    "\n",
    "\n",
    "*Remarque : Lors de l'installation laisser tout par défaut, **sauf éventuellement** définir la racine comme étant \"main\" plutôt que \"master\" qui est par défaut sur git.*\n",
    "\n",
    "![installation git](./images/installation_git.png)\n",
    "\n",
    "Une fois installer VS code reconnaitra automatiquement la présence de git sur l'ordinateur."
   ]
  },
  {
   "cell_type": "markdown",
   "metadata": {},
   "source": [
    "Il est alors possible d'utiliser les lignes de commandes. Dans le paragraphe ci-dessous nous présentons les commandes les plus usuelles, d'autres commandes sont également d'écrite dans ce [*cheat-sheet*](https://training.github.com/downloads/fr/github-git-cheat-sheet/).\n",
    "\n",
    "Pour clonner un répertoire depuis GitHub vers votre ordinateur, allez sur le répertoire GitHub que vous souhaitez mettre en local et cliquez sur le boutton **<span style=\"background-color:lime;\"> Code </span>**.\n",
    "\n",
    "![ image clone répertoire](./images/clone_rep.png)\n",
    "\n",
    "Ouvrez un terminal (sous VScode, ou pas), positionnez vous à l'endroit ou vous souhaitez *\"cloner\"* le répertoire GitHub, et copiez ensuite le lien dans la commande suivante :"
   ]
  },
  {
   "cell_type": "markdown",
   "metadata": {},
   "source": [
    "`git clone https://...`"
   ]
  },
  {
   "cell_type": "markdown",
   "metadata": {},
   "source": [
    "Votre répertoire GitHub sera maintenant disponible sur votre ordinateur. Il est maintenant possible de créer une branche de votre projet, c.à.d une copie du projet sur laquelle vous pourrez apporter des modification sans abîmer l'original. Pour ce faire il suffit de créer la banche avec la commande :"
   ]
  },
  {
   "cell_type": "markdown",
   "metadata": {},
   "source": [
    "`git branch nom_de_la_branche`"
   ]
  },
  {
   "cell_type": "markdown",
   "metadata": {},
   "source": [
    "Voilà la branche est créer, cependant elle n'est pas active, car vous vous trouvez toujour dans la banche principal (*\"main\"*). Pour passer sur la nouvelle branche executez la commande :"
   ]
  },
  {
   "cell_type": "markdown",
   "metadata": {},
   "source": [
    "`git checkout nom_de_la_branche`"
   ]
  },
  {
   "cell_type": "markdown",
   "metadata": {},
   "source": [
    "Maintenant toutes les modifications apportées aux fichiers se feront sur votre nouvelle branche et n'impacteront pas la branche *main*. Attention votre branche existe uniquement en local, pour la mettre sur votre projet en ligne pour que tout le monde y ai accès il faut la publier avec la commande :"
   ]
  },
  {
   "cell_type": "markdown",
   "metadata": {},
   "source": [
    "`git push -u origin nom_de_la_branche` (version courte)\n",
    "\n",
    "ou\n",
    "\n",
    "`git push --set-upstream origin nom_de_la_branche` (version longue)"
   ]
  },
  {
   "cell_type": "markdown",
   "metadata": {},
   "source": [
    "Après avoir modifier les fichiers dans votre projet, vous pouvez créer un point de sauvegarde de votre projet,c'est ce que l'on appelle un *\"commit\"*. Pour ce faire utilisez la commande est :"
   ]
  },
  {
   "cell_type": "markdown",
   "metadata": {},
   "source": [
    "`git commit -a`"
   ]
  },
  {
   "cell_type": "markdown",
   "metadata": {},
   "source": [
    "Le paramètre `-a` permet de prendre en considérer toutes les modifications. Après avoir tapé la commande un document souvre afin de pouvoir ajouter le nom et la description lié au *commit*. Une fois ce document sauvegardé et fermé le *commit* sera pris en compte. Il est possible de mettre le nom du *commit* directement dans la commande précedente en ajoutant le paramètre `-m \"nom du commit \"`.\n",
    "\n",
    "Après avoir créer votre *commit* vous pouvez l'envoyer sur GitHuv avec :"
   ]
  },
  {
   "cell_type": "markdown",
   "metadata": {},
   "source": [
    "`git push`"
   ]
  },
  {
   "cell_type": "markdown",
   "metadata": {},
   "source": [
    "<span style=\"color:red\">Attention si vous avez ajouté un nouveau fichier dans votre projet (code, images, ou autre), cette ajout ne serra pas pris en compte dans le _**commit**_. Pour le prendre en compte il faudra executer une commande avant de celle du _**commit**_ :</span>"
   ]
  },
  {
   "cell_type": "markdown",
   "metadata": {},
   "source": [
    "`git add .`"
   ]
  },
  {
   "cell_type": "markdown",
   "metadata": {},
   "source": [
    "Le point permet de prendre en compte tous les ajouts effectué au lieu de spécifier les fichiers individuellement."
   ]
  },
  {
   "cell_type": "markdown",
   "metadata": {},
   "source": [
    "Lorsque des modifications sur le projet ont été effectuer par un colaborateur il est possible de mettre à jour son projet en local avec :"
   ]
  },
  {
   "cell_type": "markdown",
   "metadata": {},
   "source": [
    "`git pull`"
   ]
  },
  {
   "cell_type": "markdown",
   "metadata": {},
   "source": [
    "Enfin lorsque l'on a finit de travailler sur sa branche et que l'on souhaite la fusionner avec la branche principal il faudra se déplacer à nouveau sur la branche principal avec la commande `git checkout main` et lancer ensuite :"
   ]
  },
  {
   "cell_type": "markdown",
   "metadata": {},
   "source": [
    "`git merge nom_de_la_branche`"
   ]
  },
  {
   "cell_type": "markdown",
   "metadata": {},
   "source": [
    "#### Le fichier *.gitignore* <a id=\"gitignore\"></a>"
   ]
  },
  {
   "cell_type": "markdown",
   "metadata": {},
   "source": [
    "Le fichier _**.gitignore**_ est un fichier qui va être lu par git, et va permettre de lui demander d'ignorer des fichiers et dossier non essentiel au projet. Imaginons que dans le dossier du projet cloner, on a ajoute nouveau fichier *test.py*, ainsi que deux fichiers pdf (*enonce1.pdf*, et *enonce2.pdf*), et un dossier *images* contenant quelques images. Ces nouveaux fichiers et dossier ne sont pas essentiel au projet, et on ne souhaite pas les partager dans le projet GitHub, cependant par commodité on ne veux les laissés dans notre dossier projet pour un soucis d'organisation. Dans ce cas il est possible de les ajouter dans le _**.gitignore**_ afin qu'ils soient ignorés par git.  Pour faire il suffit d'ouvrire le fichier comme un fichier texte ou directement avec VS code d'y ajouter :"
   ]
  },
  {
   "cell_type": "markdown",
   "metadata": {},
   "source": [
    "`test.py` ==> pour ignorer le fichier *test.py*\n",
    "\n",
    "`.pdf` ==> pour ignorer tous les fichiers qui ont pour extension *.pdf* (donc qui sont des pdf)\n",
    "\n",
    "`/images` ==> pour ignorer le dossier images et tout ce qui se trouve dedans."
   ]
  }
 ],
 "metadata": {
  "kernelspec": {
   "display_name": "Python 3",
   "language": "python",
   "name": "python3"
  },
  "language_info": {
   "codemirror_mode": {
    "name": "ipython",
    "version": 3
   },
   "file_extension": ".py",
   "mimetype": "text/x-python",
   "name": "python",
   "nbconvert_exporter": "python",
   "pygments_lexer": "ipython3",
   "version": "3.8.3"
  }
 },
 "nbformat": 4,
 "nbformat_minor": 5
}
